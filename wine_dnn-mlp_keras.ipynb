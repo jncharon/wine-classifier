{
 "cells": [
  {
   "cell_type": "markdown",
   "metadata": {},
   "source": [
    "# Wine Classifier with a multilayer perceptron\n",
    "As we want to predict the rank of a wine, we are in a multiclass classification. In Keras, it's done with the categorical_crossentropy loss function which requires the labels to be one hot encoded."
   ]
  },
  {
   "cell_type": "code",
   "execution_count": 53,
   "metadata": {},
   "outputs": [],
   "source": [
    "import pandas as pd\n",
    "import numpy as np\n",
    "import matplotlib.pyplot as plt\n",
    "\n",
    "from sklearn.preprocessing import StandardScaler\n",
    "from sklearn.model_selection import train_test_split\n",
    "from sklearn.model_selection import KFold\n",
    "from sklearn.model_selection import cross_val_score\n",
    "from sklearn.metrics import confusion_matrix\n",
    "\n",
    "import keras\n",
    "from keras.utils import np_utils\n",
    "from keras.models import Sequential\n",
    "from keras.layers import Dense\n",
    "from keras.layers import Dropout\n",
    "from keras.layers import Activation\n",
    "from keras.optimizers import SGD\n",
    "\n",
    "from keras.wrappers.scikit_learn import KerasClassifier"
   ]
  },
  {
   "cell_type": "code",
   "execution_count": 54,
   "metadata": {
    "slideshow": {
     "slide_type": "-"
    }
   },
   "outputs": [],
   "source": [
    "# Define the temp directory for keeping the model and checkpoints\n",
    "tmp_dir_spec = \"model\"\n",
    "\n",
    "epochs = 90\n",
    "batch_size = 100\n",
    "\n",
    "# File Name - be sure to change this if you upload something else\n",
    "file_name = 'input/winequality-red.csv'"
   ]
  },
  {
   "cell_type": "code",
   "execution_count": 55,
   "metadata": {},
   "outputs": [
    {
     "data": {
      "text/html": [
       "<div>\n",
       "<style scoped>\n",
       "    .dataframe tbody tr th:only-of-type {\n",
       "        vertical-align: middle;\n",
       "    }\n",
       "\n",
       "    .dataframe tbody tr th {\n",
       "        vertical-align: top;\n",
       "    }\n",
       "\n",
       "    .dataframe thead th {\n",
       "        text-align: right;\n",
       "    }\n",
       "</style>\n",
       "<table border=\"1\" class=\"dataframe\">\n",
       "  <thead>\n",
       "    <tr style=\"text-align: right;\">\n",
       "      <th></th>\n",
       "      <th>fixed_acidity</th>\n",
       "      <th>volatile_acidity</th>\n",
       "      <th>citric_acid</th>\n",
       "      <th>residual_sugar</th>\n",
       "      <th>chlorides</th>\n",
       "      <th>free_sulfur_dioxide</th>\n",
       "      <th>total_sulfur_dioxide</th>\n",
       "      <th>density</th>\n",
       "      <th>pH</th>\n",
       "      <th>sulphates</th>\n",
       "      <th>alcohol</th>\n",
       "      <th>quality</th>\n",
       "    </tr>\n",
       "  </thead>\n",
       "  <tbody>\n",
       "    <tr>\n",
       "      <th>0</th>\n",
       "      <td>7.4</td>\n",
       "      <td>0.70</td>\n",
       "      <td>0.00</td>\n",
       "      <td>1.9</td>\n",
       "      <td>0.076</td>\n",
       "      <td>11.0</td>\n",
       "      <td>34.0</td>\n",
       "      <td>0.9978</td>\n",
       "      <td>3.51</td>\n",
       "      <td>0.56</td>\n",
       "      <td>9.4</td>\n",
       "      <td>5</td>\n",
       "    </tr>\n",
       "    <tr>\n",
       "      <th>1</th>\n",
       "      <td>7.8</td>\n",
       "      <td>0.88</td>\n",
       "      <td>0.00</td>\n",
       "      <td>2.6</td>\n",
       "      <td>0.098</td>\n",
       "      <td>25.0</td>\n",
       "      <td>67.0</td>\n",
       "      <td>0.9968</td>\n",
       "      <td>3.20</td>\n",
       "      <td>0.68</td>\n",
       "      <td>9.8</td>\n",
       "      <td>5</td>\n",
       "    </tr>\n",
       "    <tr>\n",
       "      <th>2</th>\n",
       "      <td>7.8</td>\n",
       "      <td>0.76</td>\n",
       "      <td>0.04</td>\n",
       "      <td>2.3</td>\n",
       "      <td>0.092</td>\n",
       "      <td>15.0</td>\n",
       "      <td>54.0</td>\n",
       "      <td>0.9970</td>\n",
       "      <td>3.26</td>\n",
       "      <td>0.65</td>\n",
       "      <td>9.8</td>\n",
       "      <td>5</td>\n",
       "    </tr>\n",
       "    <tr>\n",
       "      <th>3</th>\n",
       "      <td>11.2</td>\n",
       "      <td>0.28</td>\n",
       "      <td>0.56</td>\n",
       "      <td>1.9</td>\n",
       "      <td>0.075</td>\n",
       "      <td>17.0</td>\n",
       "      <td>60.0</td>\n",
       "      <td>0.9980</td>\n",
       "      <td>3.16</td>\n",
       "      <td>0.58</td>\n",
       "      <td>9.8</td>\n",
       "      <td>6</td>\n",
       "    </tr>\n",
       "    <tr>\n",
       "      <th>4</th>\n",
       "      <td>7.4</td>\n",
       "      <td>0.70</td>\n",
       "      <td>0.00</td>\n",
       "      <td>1.9</td>\n",
       "      <td>0.076</td>\n",
       "      <td>11.0</td>\n",
       "      <td>34.0</td>\n",
       "      <td>0.9978</td>\n",
       "      <td>3.51</td>\n",
       "      <td>0.56</td>\n",
       "      <td>9.4</td>\n",
       "      <td>5</td>\n",
       "    </tr>\n",
       "  </tbody>\n",
       "</table>\n",
       "</div>"
      ],
      "text/plain": [
       "   fixed_acidity  volatile_acidity  citric_acid  residual_sugar  chlorides  \\\n",
       "0            7.4              0.70         0.00             1.9      0.076   \n",
       "1            7.8              0.88         0.00             2.6      0.098   \n",
       "2            7.8              0.76         0.04             2.3      0.092   \n",
       "3           11.2              0.28         0.56             1.9      0.075   \n",
       "4            7.4              0.70         0.00             1.9      0.076   \n",
       "\n",
       "   free_sulfur_dioxide  total_sulfur_dioxide  density    pH  sulphates  \\\n",
       "0                 11.0                  34.0   0.9978  3.51       0.56   \n",
       "1                 25.0                  67.0   0.9968  3.20       0.68   \n",
       "2                 15.0                  54.0   0.9970  3.26       0.65   \n",
       "3                 17.0                  60.0   0.9980  3.16       0.58   \n",
       "4                 11.0                  34.0   0.9978  3.51       0.56   \n",
       "\n",
       "   alcohol  quality  \n",
       "0      9.4        5  \n",
       "1      9.8        5  \n",
       "2      9.8        5  \n",
       "3      9.8        6  \n",
       "4      9.4        5  "
      ]
     },
     "execution_count": 55,
     "metadata": {},
     "output_type": "execute_result"
    }
   ],
   "source": [
    "df = pd.read_csv(file_name, delimiter=';')\n",
    "df.head()"
   ]
  },
  {
   "cell_type": "code",
   "execution_count": 56,
   "metadata": {},
   "outputs": [
    {
     "name": "stdout",
     "output_type": "stream",
     "text": [
      "[5 6 7 4 8 3] = 6 distinct values\n"
     ]
    }
   ],
   "source": [
    "print('{} = {} distinct values'.format(df.quality.unique(), len(df.quality.unique())))"
   ]
  },
  {
   "cell_type": "markdown",
   "metadata": {},
   "source": [
    "## Create Training and Test sets"
   ]
  },
  {
   "cell_type": "code",
   "execution_count": 57,
   "metadata": {},
   "outputs": [
    {
     "name": "stdout",
     "output_type": "stream",
     "text": [
      "(1599,)\n",
      "(1439, 11)\n",
      "(1439, 9)\n"
     ]
    }
   ],
   "source": [
    "X = df.iloc[:, :-1].values\n",
    "y = df.iloc[:, -1].values\n",
    "print(y.shape)\n",
    "\n",
    "# One hot encoding required to use the categorical_crossentropy\n",
    "y = np_utils.to_categorical(y)\n",
    "\n",
    "X_train, X_test, y_train, y_test = train_test_split(X, y, test_size=0.1, random_state=1)\n",
    "\n",
    "print(X_train.shape)\n",
    "print(y_train.shape)"
   ]
  },
  {
   "cell_type": "markdown",
   "metadata": {},
   "source": [
    "## Feature Scaling\n",
    "The values are not hologeneous, this is why we need to uniform them"
   ]
  },
  {
   "cell_type": "code",
   "execution_count": 58,
   "metadata": {},
   "outputs": [],
   "source": [
    "sc = StandardScaler()\n",
    "X_train = sc.fit_transform(X_train)\n",
    "X_test = sc.transform(X_test)"
   ]
  },
  {
   "cell_type": "markdown",
   "metadata": {},
   "source": [
    "## Building model"
   ]
  },
  {
   "cell_type": "code",
   "execution_count": 59,
   "metadata": {},
   "outputs": [
    {
     "name": "stdout",
     "output_type": "stream",
     "text": [
      "_________________________________________________________________\n",
      "Layer (type)                 Output Shape              Param #   \n",
      "=================================================================\n",
      "dense_13 (Dense)             (None, 11)                132       \n",
      "_________________________________________________________________\n",
      "dense_14 (Dense)             (None, 9)                 108       \n",
      "=================================================================\n",
      "Total params: 240\n",
      "Trainable params: 240\n",
      "Non-trainable params: 0\n",
      "_________________________________________________________________\n"
     ]
    }
   ],
   "source": [
    "model = Sequential()\n",
    "# Input layer : 11 neurons, this matches the input shape (the features)\n",
    "model.add(Dense(11, activation=\"relu\", input_dim=11))\n",
    "# Output layer : 9 neurons, this matches the number of classes\n",
    "model.add(Dense(9, activation=\"softmax\"))\n",
    "model.summary()\n",
    "\n",
    "learning_rate = 0.005\n",
    "decay_rate = learning_rate / epochs\n",
    "sgd = SGD(lr=learning_rate, decay=decay_rate, momentum=0.9, nesterov=True)\n",
    "#sgd = SGD(lr=0.002, decay=1e-6, momentum=0.9, nesterov=True)\n",
    "\n",
    "model.compile(loss=keras.losses.categorical_crossentropy, \n",
    "              optimizer=sgd,  #keras.optimizers.Adam()()\n",
    "              metrics=['accuracy'])"
   ]
  },
  {
   "cell_type": "markdown",
   "metadata": {},
   "source": [
    "## Training model"
   ]
  },
  {
   "cell_type": "code",
   "execution_count": 60,
   "metadata": {},
   "outputs": [
    {
     "name": "stdout",
     "output_type": "stream",
     "text": [
      "Train on 1439 samples, validate on 160 samples\n",
      "Epoch 1/90\n",
      "1439/1439 [==============================] - 0s 166us/step - loss: 2.2023 - acc: 0.1633 - val_loss: 1.9271 - val_acc: 0.3125\n",
      "Epoch 2/90\n",
      "1439/1439 [==============================] - 0s 25us/step - loss: 1.8577 - acc: 0.3857 - val_loss: 1.5518 - val_acc: 0.5625\n",
      "Epoch 3/90\n",
      "1439/1439 [==============================] - 0s 27us/step - loss: 1.5680 - acc: 0.5156 - val_loss: 1.2971 - val_acc: 0.5812\n",
      "Epoch 4/90\n",
      "1439/1439 [==============================] - 0s 28us/step - loss: 1.3872 - acc: 0.5393 - val_loss: 1.1428 - val_acc: 0.6000\n",
      "Epoch 5/90\n",
      "1439/1439 [==============================] - 0s 27us/step - loss: 1.2782 - acc: 0.5525 - val_loss: 1.0506 - val_acc: 0.6187\n",
      "Epoch 6/90\n",
      "1439/1439 [==============================] - 0s 25us/step - loss: 1.2148 - acc: 0.5629 - val_loss: 0.9923 - val_acc: 0.6188\n",
      "Epoch 7/90\n",
      "1439/1439 [==============================] - 0s 28us/step - loss: 1.1725 - acc: 0.5705 - val_loss: 0.9548 - val_acc: 0.6188\n",
      "Epoch 8/90\n",
      "1439/1439 [==============================] - 0s 28us/step - loss: 1.1447 - acc: 0.5705 - val_loss: 0.9295 - val_acc: 0.6375\n",
      "Epoch 9/90\n",
      "1439/1439 [==============================] - 0s 27us/step - loss: 1.1239 - acc: 0.5698 - val_loss: 0.9103 - val_acc: 0.6438\n",
      "Epoch 10/90\n",
      "1439/1439 [==============================] - 0s 28us/step - loss: 1.1074 - acc: 0.5733 - val_loss: 0.8981 - val_acc: 0.6500\n",
      "Epoch 11/90\n",
      "1439/1439 [==============================] - 0s 27us/step - loss: 1.0943 - acc: 0.5768 - val_loss: 0.8872 - val_acc: 0.6500\n",
      "Epoch 12/90\n",
      "1439/1439 [==============================] - 0s 26us/step - loss: 1.0840 - acc: 0.5789 - val_loss: 0.8820 - val_acc: 0.6500\n",
      "Epoch 13/90\n",
      "1439/1439 [==============================] - 0s 31us/step - loss: 1.0741 - acc: 0.5803 - val_loss: 0.8768 - val_acc: 0.6500\n",
      "Epoch 14/90\n",
      "1439/1439 [==============================] - 0s 27us/step - loss: 1.0660 - acc: 0.5844 - val_loss: 0.8695 - val_acc: 0.6437\n",
      "Epoch 15/90\n",
      "1439/1439 [==============================] - 0s 27us/step - loss: 1.0584 - acc: 0.5830 - val_loss: 0.8662 - val_acc: 0.6687\n",
      "Epoch 16/90\n",
      "1439/1439 [==============================] - 0s 27us/step - loss: 1.0525 - acc: 0.5844 - val_loss: 0.8623 - val_acc: 0.6687\n",
      "Epoch 17/90\n",
      "1439/1439 [==============================] - 0s 33us/step - loss: 1.0468 - acc: 0.5823 - val_loss: 0.8584 - val_acc: 0.6687\n",
      "Epoch 18/90\n",
      "1439/1439 [==============================] - 0s 28us/step - loss: 1.0415 - acc: 0.5810 - val_loss: 0.8549 - val_acc: 0.6625\n",
      "Epoch 19/90\n",
      "1439/1439 [==============================] - 0s 31us/step - loss: 1.0366 - acc: 0.5844 - val_loss: 0.8549 - val_acc: 0.6625\n",
      "Epoch 20/90\n",
      "1439/1439 [==============================] - 0s 27us/step - loss: 1.0320 - acc: 0.5879 - val_loss: 0.8539 - val_acc: 0.6563\n",
      "Epoch 21/90\n",
      "1439/1439 [==============================] - 0s 28us/step - loss: 1.0280 - acc: 0.5914 - val_loss: 0.8510 - val_acc: 0.6625\n",
      "Epoch 22/90\n",
      "1439/1439 [==============================] - 0s 25us/step - loss: 1.0244 - acc: 0.5893 - val_loss: 0.8478 - val_acc: 0.6625\n",
      "Epoch 23/90\n",
      "1439/1439 [==============================] - 0s 29us/step - loss: 1.0207 - acc: 0.5907 - val_loss: 0.8481 - val_acc: 0.6500\n",
      "Epoch 24/90\n",
      "1439/1439 [==============================] - 0s 27us/step - loss: 1.0174 - acc: 0.5949 - val_loss: 0.8470 - val_acc: 0.6437\n",
      "Epoch 25/90\n",
      "1439/1439 [==============================] - 0s 26us/step - loss: 1.0144 - acc: 0.5956 - val_loss: 0.8461 - val_acc: 0.6375\n",
      "Epoch 26/90\n",
      "1439/1439 [==============================] - 0s 23us/step - loss: 1.0115 - acc: 0.5956 - val_loss: 0.8451 - val_acc: 0.6375\n",
      "Epoch 27/90\n",
      "1439/1439 [==============================] - 0s 24us/step - loss: 1.0087 - acc: 0.5969 - val_loss: 0.8425 - val_acc: 0.6312\n",
      "Epoch 28/90\n",
      "1439/1439 [==============================] - 0s 24us/step - loss: 1.0061 - acc: 0.5956 - val_loss: 0.8417 - val_acc: 0.6312\n",
      "Epoch 29/90\n",
      "1439/1439 [==============================] - 0s 25us/step - loss: 1.0037 - acc: 0.5935 - val_loss: 0.8415 - val_acc: 0.6312\n",
      "Epoch 30/90\n",
      "1439/1439 [==============================] - 0s 29us/step - loss: 1.0013 - acc: 0.5942 - val_loss: 0.8396 - val_acc: 0.6312\n",
      "Epoch 31/90\n",
      "1439/1439 [==============================] - 0s 26us/step - loss: 0.9992 - acc: 0.5956 - val_loss: 0.8390 - val_acc: 0.6312\n",
      "Epoch 32/90\n",
      "1439/1439 [==============================] - 0s 24us/step - loss: 0.9970 - acc: 0.5942 - val_loss: 0.8402 - val_acc: 0.6375\n",
      "Epoch 33/90\n",
      "1439/1439 [==============================] - 0s 25us/step - loss: 0.9949 - acc: 0.5976 - val_loss: 0.8384 - val_acc: 0.6500\n",
      "Epoch 34/90\n",
      "1439/1439 [==============================] - 0s 25us/step - loss: 0.9927 - acc: 0.5962 - val_loss: 0.8388 - val_acc: 0.6375\n",
      "Epoch 35/90\n",
      "1439/1439 [==============================] - 0s 27us/step - loss: 0.9908 - acc: 0.5990 - val_loss: 0.8369 - val_acc: 0.6500\n",
      "Epoch 36/90\n",
      "1439/1439 [==============================] - 0s 27us/step - loss: 0.9892 - acc: 0.6004 - val_loss: 0.8358 - val_acc: 0.6500\n",
      "Epoch 37/90\n",
      "1439/1439 [==============================] - 0s 26us/step - loss: 0.9875 - acc: 0.5997 - val_loss: 0.8352 - val_acc: 0.6500\n",
      "Epoch 38/90\n",
      "1439/1439 [==============================] - 0s 28us/step - loss: 0.9859 - acc: 0.6004 - val_loss: 0.8342 - val_acc: 0.6500\n",
      "Epoch 39/90\n",
      "1439/1439 [==============================] - 0s 24us/step - loss: 0.9841 - acc: 0.5997 - val_loss: 0.8320 - val_acc: 0.6563\n",
      "Epoch 40/90\n",
      "1439/1439 [==============================] - 0s 23us/step - loss: 0.9827 - acc: 0.5990 - val_loss: 0.8319 - val_acc: 0.6500\n",
      "Epoch 41/90\n",
      "1439/1439 [==============================] - 0s 25us/step - loss: 0.9810 - acc: 0.6011 - val_loss: 0.8310 - val_acc: 0.6500\n",
      "Epoch 42/90\n",
      "1439/1439 [==============================] - 0s 24us/step - loss: 0.9795 - acc: 0.6025 - val_loss: 0.8305 - val_acc: 0.6500\n",
      "Epoch 43/90\n",
      "1439/1439 [==============================] - 0s 23us/step - loss: 0.9781 - acc: 0.6018 - val_loss: 0.8301 - val_acc: 0.6500\n",
      "Epoch 44/90\n",
      "1439/1439 [==============================] - 0s 26us/step - loss: 0.9771 - acc: 0.6081 - val_loss: 0.8299 - val_acc: 0.6438\n",
      "Epoch 45/90\n",
      "1439/1439 [==============================] - 0s 24us/step - loss: 0.9752 - acc: 0.6004 - val_loss: 0.8300 - val_acc: 0.6375\n",
      "Epoch 46/90\n",
      "1439/1439 [==============================] - 0s 25us/step - loss: 0.9739 - acc: 0.5990 - val_loss: 0.8296 - val_acc: 0.6438\n",
      "Epoch 47/90\n",
      "1439/1439 [==============================] - 0s 24us/step - loss: 0.9723 - acc: 0.6046 - val_loss: 0.8289 - val_acc: 0.6375\n",
      "Epoch 48/90\n",
      "1439/1439 [==============================] - 0s 27us/step - loss: 0.9715 - acc: 0.6032 - val_loss: 0.8304 - val_acc: 0.6312\n",
      "Epoch 49/90\n",
      "1439/1439 [==============================] - 0s 26us/step - loss: 0.9699 - acc: 0.6032 - val_loss: 0.8271 - val_acc: 0.6438\n",
      "Epoch 50/90\n",
      "1439/1439 [==============================] - 0s 27us/step - loss: 0.9686 - acc: 0.6081 - val_loss: 0.8267 - val_acc: 0.6375\n",
      "Epoch 51/90\n",
      "1439/1439 [==============================] - 0s 24us/step - loss: 0.9675 - acc: 0.6088 - val_loss: 0.8266 - val_acc: 0.6375\n",
      "Epoch 52/90\n",
      "1439/1439 [==============================] - 0s 27us/step - loss: 0.9668 - acc: 0.6060 - val_loss: 0.8254 - val_acc: 0.6312\n",
      "Epoch 53/90\n",
      "1439/1439 [==============================] - 0s 23us/step - loss: 0.9653 - acc: 0.6053 - val_loss: 0.8251 - val_acc: 0.6375\n",
      "Epoch 54/90\n",
      "1439/1439 [==============================] - 0s 27us/step - loss: 0.9642 - acc: 0.6101 - val_loss: 0.8270 - val_acc: 0.6500\n",
      "Epoch 55/90\n",
      "1439/1439 [==============================] - 0s 23us/step - loss: 0.9628 - acc: 0.6115 - val_loss: 0.8261 - val_acc: 0.6500\n",
      "Epoch 56/90\n",
      "1439/1439 [==============================] - 0s 23us/step - loss: 0.9620 - acc: 0.6122 - val_loss: 0.8251 - val_acc: 0.6437\n",
      "Epoch 57/90\n",
      "1439/1439 [==============================] - 0s 23us/step - loss: 0.9613 - acc: 0.6101 - val_loss: 0.8231 - val_acc: 0.6563\n",
      "Epoch 58/90\n",
      "1439/1439 [==============================] - 0s 22us/step - loss: 0.9602 - acc: 0.6122 - val_loss: 0.8236 - val_acc: 0.6437\n",
      "Epoch 59/90\n",
      "1439/1439 [==============================] - 0s 22us/step - loss: 0.9584 - acc: 0.6108 - val_loss: 0.8229 - val_acc: 0.6437\n",
      "Epoch 60/90\n",
      "1439/1439 [==============================] - 0s 25us/step - loss: 0.9575 - acc: 0.6101 - val_loss: 0.8224 - val_acc: 0.6500\n",
      "Epoch 61/90\n",
      "1439/1439 [==============================] - 0s 22us/step - loss: 0.9565 - acc: 0.6101 - val_loss: 0.8210 - val_acc: 0.6500\n",
      "Epoch 62/90\n",
      "1439/1439 [==============================] - 0s 23us/step - loss: 0.9555 - acc: 0.6101 - val_loss: 0.8189 - val_acc: 0.6500\n",
      "Epoch 63/90\n",
      "1439/1439 [==============================] - 0s 24us/step - loss: 0.9544 - acc: 0.6074 - val_loss: 0.8188 - val_acc: 0.6500\n",
      "Epoch 64/90\n",
      "1439/1439 [==============================] - 0s 24us/step - loss: 0.9536 - acc: 0.6108 - val_loss: 0.8183 - val_acc: 0.6500\n",
      "Epoch 65/90\n",
      "1439/1439 [==============================] - 0s 25us/step - loss: 0.9526 - acc: 0.6081 - val_loss: 0.8175 - val_acc: 0.6500\n",
      "Epoch 66/90\n",
      "1439/1439 [==============================] - 0s 28us/step - loss: 0.9518 - acc: 0.6088 - val_loss: 0.8167 - val_acc: 0.6563\n",
      "Epoch 67/90\n",
      "1439/1439 [==============================] - 0s 27us/step - loss: 0.9509 - acc: 0.6074 - val_loss: 0.8176 - val_acc: 0.6438\n",
      "Epoch 68/90\n",
      "1439/1439 [==============================] - 0s 23us/step - loss: 0.9502 - acc: 0.6081 - val_loss: 0.8182 - val_acc: 0.6500\n",
      "Epoch 69/90\n",
      "1439/1439 [==============================] - 0s 25us/step - loss: 0.9491 - acc: 0.6074 - val_loss: 0.8155 - val_acc: 0.6563\n",
      "Epoch 70/90\n",
      "1439/1439 [==============================] - 0s 25us/step - loss: 0.9484 - acc: 0.6067 - val_loss: 0.8169 - val_acc: 0.6625\n",
      "Epoch 71/90\n",
      "1439/1439 [==============================] - 0s 25us/step - loss: 0.9478 - acc: 0.6081 - val_loss: 0.8159 - val_acc: 0.6687\n",
      "Epoch 72/90\n",
      "1439/1439 [==============================] - 0s 25us/step - loss: 0.9467 - acc: 0.6081 - val_loss: 0.8153 - val_acc: 0.6563\n",
      "Epoch 73/90\n",
      "1439/1439 [==============================] - 0s 25us/step - loss: 0.9460 - acc: 0.6053 - val_loss: 0.8137 - val_acc: 0.6563\n",
      "Epoch 74/90\n",
      "1439/1439 [==============================] - 0s 26us/step - loss: 0.9453 - acc: 0.6053 - val_loss: 0.8128 - val_acc: 0.6563\n",
      "Epoch 75/90\n",
      "1439/1439 [==============================] - 0s 25us/step - loss: 0.9445 - acc: 0.6025 - val_loss: 0.8120 - val_acc: 0.6625\n",
      "Epoch 76/90\n",
      "1439/1439 [==============================] - 0s 28us/step - loss: 0.9440 - acc: 0.6053 - val_loss: 0.8123 - val_acc: 0.6563\n",
      "Epoch 77/90\n",
      "1439/1439 [==============================] - 0s 27us/step - loss: 0.9437 - acc: 0.6060 - val_loss: 0.8127 - val_acc: 0.6438\n",
      "Epoch 78/90\n",
      "1439/1439 [==============================] - 0s 28us/step - loss: 0.9432 - acc: 0.6074 - val_loss: 0.8113 - val_acc: 0.6563\n",
      "Epoch 79/90\n",
      "1439/1439 [==============================] - 0s 26us/step - loss: 0.9425 - acc: 0.6108 - val_loss: 0.8118 - val_acc: 0.6563\n",
      "Epoch 80/90\n",
      "1439/1439 [==============================] - 0s 22us/step - loss: 0.9414 - acc: 0.6032 - val_loss: 0.8100 - val_acc: 0.6563\n",
      "Epoch 81/90\n",
      "1439/1439 [==============================] - 0s 21us/step - loss: 0.9414 - acc: 0.6081 - val_loss: 0.8099 - val_acc: 0.6563\n",
      "Epoch 82/90\n",
      "1439/1439 [==============================] - 0s 24us/step - loss: 0.9402 - acc: 0.6081 - val_loss: 0.8103 - val_acc: 0.6563\n",
      "Epoch 83/90\n",
      "1439/1439 [==============================] - 0s 28us/step - loss: 0.9396 - acc: 0.6039 - val_loss: 0.8105 - val_acc: 0.6563\n",
      "Epoch 84/90\n",
      "1439/1439 [==============================] - 0s 26us/step - loss: 0.9394 - acc: 0.6060 - val_loss: 0.8089 - val_acc: 0.6563\n",
      "Epoch 85/90\n",
      "1439/1439 [==============================] - 0s 23us/step - loss: 0.9387 - acc: 0.6025 - val_loss: 0.8088 - val_acc: 0.6563\n",
      "Epoch 86/90\n",
      "1439/1439 [==============================] - 0s 24us/step - loss: 0.9384 - acc: 0.6053 - val_loss: 0.8072 - val_acc: 0.6500\n",
      "Epoch 87/90\n",
      "1439/1439 [==============================] - 0s 24us/step - loss: 0.9374 - acc: 0.6039 - val_loss: 0.8071 - val_acc: 0.6500\n",
      "Epoch 88/90\n",
      "1439/1439 [==============================] - 0s 25us/step - loss: 0.9372 - acc: 0.6011 - val_loss: 0.8085 - val_acc: 0.6500\n",
      "Epoch 89/90\n",
      "1439/1439 [==============================] - 0s 20us/step - loss: 0.9362 - acc: 0.6004 - val_loss: 0.8076 - val_acc: 0.6563\n",
      "Epoch 90/90\n",
      "1439/1439 [==============================] - 0s 24us/step - loss: 0.9360 - acc: 0.6039 - val_loss: 0.8087 - val_acc: 0.6563\n"
     ]
    }
   ],
   "source": [
    "history = model.fit(X_train, y_train, \n",
    "          batch_size=batch_size, \n",
    "          epochs=epochs, \n",
    "          verbose=1, \n",
    "          validation_data=(X_test, y_test))"
   ]
  },
  {
   "cell_type": "code",
   "execution_count": 61,
   "metadata": {},
   "outputs": [
    {
     "data": {
      "image/png": "[encoded data removed]",
      "text/plain": [
       "<matplotlib.figure.Figure at 0x121504208>"
      ]
     },
     "metadata": {},
     "output_type": "display_data"
    }
   ],
   "source": [
    "width = 15\n",
    "height = 5\n",
    "\n",
    "fig = plt.figure(figsize=(width, height))\n",
    "plt.plot(history.history['acc'])\n",
    "plt.plot(history.history['val_acc'])\n",
    "plt.title('model accuracy')\n",
    "plt.ylabel('accuracy')\n",
    "plt.xlabel('epoch')\n",
    "plt.legend(['train', 'test'], loc='upper left')\n",
    "plt.show()"
   ]
  },
  {
   "cell_type": "code",
   "execution_count": 62,
   "metadata": {},
   "outputs": [
    {
     "data": {
      "image/png": "[encoded data removed]",
      "text/plain": [
       "<matplotlib.figure.Figure at 0x12101dd68>"
      ]
     },
     "metadata": {},
     "output_type": "display_data"
    }
   ],
   "source": [
    "fig = plt.figure(figsize=(width, height))\n",
    "plt.plot(history.history['loss'])\n",
    "plt.plot(history.history['val_loss'])\n",
    "plt.title('model accuracy')\n",
    "plt.ylabel('accuracy')\n",
    "plt.xlabel('epoch')\n",
    "plt.legend(['train', 'test'], loc='upper left')\n",
    "plt.show()"
   ]
  },
  {
   "cell_type": "markdown",
   "metadata": {},
   "source": [
    "## Evaluation"
   ]
  },
  {
   "cell_type": "code",
   "execution_count": 65,
   "metadata": {},
   "outputs": [
    {
     "name": "stdout",
     "output_type": "stream",
     "text": [
      "Test loss: 0.8086759209632873\n",
      "Test accuracy: 0.65625\n"
     ]
    }
   ],
   "source": [
    "score = model.evaluate(X_test, y_test, verbose=0)\n",
    "print('Test loss:', score[0])\n",
    "print('Test accuracy:', score[1])"
   ]
  },
  {
   "cell_type": "code",
   "execution_count": 64,
   "metadata": {},
   "outputs": [
    {
     "name": "stdout",
     "output_type": "stream",
     "text": [
      "[[2.1038472e-03 1.6371626e-03 2.9603050e-03 ... 4.6051729e-01\n",
      "  1.0808296e-01 1.0079190e-02]\n",
      " [1.3759211e-03 1.4690657e-03 1.1385474e-03 ... 2.5952321e-01\n",
      "  1.4545998e-02 4.1184817e-03]\n",
      " [7.5007398e-03 3.8306033e-03 6.6617853e-03 ... 4.6572825e-01\n",
      "  3.0653429e-01 4.9855445e-02]\n",
      " ...\n",
      " [1.5889581e-03 3.3881287e-03 2.1761907e-03 ... 5.0757563e-01\n",
      "  3.1728297e-01 6.5105699e-02]\n",
      " [3.8746287e-04 5.3793815e-04 1.0270452e-03 ... 6.2694931e-01\n",
      "  1.2246144e-01 8.2129687e-03]\n",
      " [2.0553800e-03 1.2555142e-03 5.0360372e-04 ... 4.9659678e-01\n",
      "  6.2663935e-02 1.8008386e-03]]\n"
     ]
    }
   ],
   "source": [
    "predictions = model.predict(X_test)\n",
    "print(predictions)"
   ]
  },
  {
   "cell_type": "code",
   "execution_count": null,
   "metadata": {},
   "outputs": [],
   "source": []
  },
  {
   "cell_type": "code",
   "execution_count": null,
   "metadata": {},
   "outputs": [],
   "source": []
  },
  {
   "cell_type": "code",
   "execution_count": null,
   "metadata": {},
   "outputs": [],
   "source": []
  },
  {
   "cell_type": "code",
   "execution_count": null,
   "metadata": {},
   "outputs": [],
   "source": []
  }
 ],
 "metadata": {
  "kernelspec": {
   "display_name": "Python 3",
   "language": "python",
   "name": "python3"
  },
  "language_info": {
   "codemirror_mode": {
    "name": "ipython",
    "version": 3
   },
   "file_extension": ".py",
   "mimetype": "text/x-python",
   "name": "python",
   "nbconvert_exporter": "python",
   "pygments_lexer": "ipython3",
   "version": "3.6.4"
  }
 },
 "nbformat": 4,
 "nbformat_minor": 2
}
